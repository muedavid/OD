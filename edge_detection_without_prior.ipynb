{
 "cells": [
  {
   "cell_type": "code",
   "execution_count": 1,
   "metadata": {},
   "outputs": [
    {
     "name": "stderr",
     "output_type": "stream",
     "text": [
      "2022-12-01 11:22:06.335293: I tensorflow/core/platform/cpu_feature_guard.cc:193] This TensorFlow binary is optimized with oneAPI Deep Neural Network Library (oneDNN) to use the following CPU instructions in performance-critical operations:  AVX2 AVX512F AVX512_VNNI FMA\n",
      "To enable them in other operations, rebuild TensorFlow with the appropriate compiler flags.\n",
      "2022-12-01 11:22:06.466989: I tensorflow/core/util/util.cc:169] oneDNN custom operations are on. You may see slightly different numerical results due to floating-point round-off errors from different computation orders. To turn them off, set the environment variable `TF_ENABLE_ONEDNN_OPTS=0`.\n",
      "2022-12-01 11:22:06.498204: E tensorflow/stream_executor/cuda/cuda_blas.cc:2981] Unable to register cuBLAS factory: Attempting to register factory for plugin cuBLAS when one has already been registered\n",
      "2022-12-01 11:22:07.132623: W tensorflow/stream_executor/platform/default/dso_loader.cc:64] Could not load dynamic library 'libnvinfer.so.7'; dlerror: libnvinfer.so.7: cannot open shared object file: No such file or directory; LD_LIBRARY_PATH: /opt/ros/noetic/lib:/home/david/miniconda3/envs/tf/lib/\n",
      "2022-12-01 11:22:07.132695: W tensorflow/stream_executor/platform/default/dso_loader.cc:64] Could not load dynamic library 'libnvinfer_plugin.so.7'; dlerror: libnvinfer_plugin.so.7: cannot open shared object file: No such file or directory; LD_LIBRARY_PATH: /opt/ros/noetic/lib:/home/david/miniconda3/envs/tf/lib/\n",
      "2022-12-01 11:22:07.132701: W tensorflow/compiler/tf2tensorrt/utils/py_utils.cc:38] TF-TRT Warning: Cannot dlopen some TensorRT libraries. If you would like to use Nvidia GPU with TensorRT, please make sure the missing libraries mentioned above are installed properly.\n"
     ]
    }
   ],
   "source": [
    "#!for a in /sys/bus/pci/devices/*; do echo 0 | sudo tee -a $a/numa_node; done\n",
    "import tensorflow as tf\n",
    "import os\n",
    "from data_processing import dataset\n",
    "from models import model\n",
    "from utils import tools\n",
    "from plots import plots, edge_detection_plots\n",
    "\n",
    "os.environ['TF_FORCE_GPU_ALLOW_GROWTH'] = 'true'\n",
    "#np.set_printoptions(threshold=sys.maxsize)"
   ]
  },
  {
   "cell_type": "code",
   "execution_count": 2,
   "metadata": {},
   "outputs": [
    {
     "name": "stderr",
     "output_type": "stream",
     "text": [
      "2022-12-01 11:22:08.702571: I tensorflow/stream_executor/cuda/cuda_gpu_executor.cc:980] successful NUMA node read from SysFS had negative value (-1), but there must be at least one NUMA node, so returning NUMA node zero\n",
      "2022-12-01 11:22:08.709510: I tensorflow/stream_executor/cuda/cuda_gpu_executor.cc:980] successful NUMA node read from SysFS had negative value (-1), but there must be at least one NUMA node, so returning NUMA node zero\n",
      "2022-12-01 11:22:08.709665: I tensorflow/stream_executor/cuda/cuda_gpu_executor.cc:980] successful NUMA node read from SysFS had negative value (-1), but there must be at least one NUMA node, so returning NUMA node zero\n",
      "2022-12-01 11:22:08.710234: I tensorflow/core/platform/cpu_feature_guard.cc:193] This TensorFlow binary is optimized with oneAPI Deep Neural Network Library (oneDNN) to use the following CPU instructions in performance-critical operations:  AVX2 AVX512F AVX512_VNNI FMA\n",
      "To enable them in other operations, rebuild TensorFlow with the appropriate compiler flags.\n",
      "2022-12-01 11:22:08.710650: I tensorflow/stream_executor/cuda/cuda_gpu_executor.cc:980] successful NUMA node read from SysFS had negative value (-1), but there must be at least one NUMA node, so returning NUMA node zero\n",
      "2022-12-01 11:22:08.710776: I tensorflow/stream_executor/cuda/cuda_gpu_executor.cc:980] successful NUMA node read from SysFS had negative value (-1), but there must be at least one NUMA node, so returning NUMA node zero\n",
      "2022-12-01 11:22:08.710863: I tensorflow/stream_executor/cuda/cuda_gpu_executor.cc:980] successful NUMA node read from SysFS had negative value (-1), but there must be at least one NUMA node, so returning NUMA node zero\n",
      "2022-12-01 11:22:09.231406: I tensorflow/stream_executor/cuda/cuda_gpu_executor.cc:980] successful NUMA node read from SysFS had negative value (-1), but there must be at least one NUMA node, so returning NUMA node zero\n",
      "2022-12-01 11:22:09.231558: I tensorflow/stream_executor/cuda/cuda_gpu_executor.cc:980] successful NUMA node read from SysFS had negative value (-1), but there must be at least one NUMA node, so returning NUMA node zero\n",
      "2022-12-01 11:22:09.231653: I tensorflow/stream_executor/cuda/cuda_gpu_executor.cc:980] successful NUMA node read from SysFS had negative value (-1), but there must be at least one NUMA node, so returning NUMA node zero\n",
      "2022-12-01 11:22:09.231722: W tensorflow/core/common_runtime/gpu/gpu_bfc_allocator.cc:42] Overriding orig_value setting because the TF_FORCE_GPU_ALLOW_GROWTH environment variable is set. Original config value was 0.\n",
      "2022-12-01 11:22:09.231745: I tensorflow/core/common_runtime/gpu/gpu_device.cc:1616] Created device /job:localhost/replica:0/task:0/device:GPU:0 with 9689 MB memory:  -> device: 0, name: NVIDIA GeForce RTX 3060, pci bus id: 0000:22:00.0, compute capability: 8.6\n"
     ]
    }
   ],
   "source": [
    "config_directory = 'edge_detection_without_prior'\n",
    "\n",
    "config_path = os.path.join(os.getcwd(), 'configs', config_directory)\n",
    "Model = model.Model(config_path)\n",
    "DataProcessing = dataset.DataProcessing(Model.cfg[\"INPUT_SHAPE\"], Model.cfg[\"OUTPUT_SHAPE\"], config_path)\n",
    "tools.parser(Model.cfg, DataProcessing.cfg)\n",
    "Model.load_data(DataProcessing.cfg[\"NAME\"])\n",
    "DataProcessing.path_definitions()"
   ]
  },
  {
   "cell_type": "markdown",
   "metadata": {},
   "source": [
    "# Load Dataset, Preprocess Images and Dataset"
   ]
  },
  {
   "cell_type": "code",
   "execution_count": 3,
   "metadata": {},
   "outputs": [
    {
     "name": "stdout",
     "output_type": "stream",
     "text": [
      "The TRAIN DS contains 1500 images.\n",
      "The TEST DS contains 300 images.\n",
      "The IMG_ONLY DS contains 80 images.\n"
     ]
    }
   ],
   "source": [
    "if Model.train_model:\n",
    "    train_ds, img_count_train = DataProcessing.load_dataset(DataProcessing.key.train)\n",
    "test_ds, img_count_test = DataProcessing.load_dataset(DataProcessing.key.test)\n",
    "\n",
    "img_only_ds, img_count_img_only_ds = DataProcessing.load_dataset(DataProcessing.key.img_only)\n",
    "\n",
    "#if Model.train_model:\n",
    "#    for inp, out in train_ds.take(1):\n",
    "#        edge_detection_plots.plot_edges(images=inp['in_img'], labels=out['out_edge'],\n",
    "#                                        batch_size=DataProcessing.cfg['TEST']['BATCH_SIZE'],\n",
    "#                                        num_classes=DataProcessing.num_classes['edge'])"
   ]
  },
  {
   "cell_type": "markdown",
   "metadata": {},
   "source": [
    "# Define, Compile and Train Model"
   ]
  },
  {
   "cell_type": "code",
   "execution_count": null,
   "metadata": {},
   "outputs": [
    {
     "name": "stdout",
     "output_type": "stream",
     "text": [
      "(640, 360, 3)\n",
      "WARNING:tensorflow:`input_shape` is undefined or non-square, or `rows` is not in [96, 128, 160, 192, 224]. Weights for input shape (224, 224) will be loaded as the default.\n",
      "WARNING:tensorflow:`period` argument is deprecated. Please use `save_freq` to specify the frequency in number of batches seen.\n",
      "Epoch 1/60\n"
     ]
    },
    {
     "name": "stderr",
     "output_type": "stream",
     "text": [
      "2022-12-01 11:22:26.650788: I tensorflow/core/kernels/data/shuffle_dataset_op.cc:390] Filling up shuffle buffer (this may take a while): 1021 of 1500\n",
      "2022-12-01 11:22:30.826278: I tensorflow/core/kernels/data/shuffle_dataset_op.cc:415] Shuffle buffer filled.\n",
      "2022-12-01 11:22:31.762860: I tensorflow/stream_executor/cuda/cuda_dnn.cc:384] Loaded cuDNN version 8100\n",
      "2022-12-01 11:22:32.912975: I tensorflow/stream_executor/cuda/cuda_blas.cc:1614] TensorFloat-32 will be used for the matrix multiplication. This will only be logged once.\n"
     ]
    },
    {
     "name": "stdout",
     "output_type": "stream",
     "text": [
      "500/500 [==============================] - 79s 116ms/step - loss: 170.8565 - accuracy: 0.9609 - accuracy_1: 0.9176 - accuracy_2: 0.9641 - accuracy_3: 0.9663 - accuracy_4: 0.9761 - accuracy_5: 0.9805 - f1: 0.0141 - precision: 0.0129 - recall: 0.0260 - f1_1: 0.0062 - precision_1: 0.0035 - recall_1: 0.0589 - f1_2: 0.0330 - precision_2: 0.0961 - recall_2: 0.0245 - f1_3: 0.0056 - precision_3: 0.0051 - recall_3: 0.0136 - f1_4: 0.0063 - precision_4: 0.0041 - recall_4: 0.0319 - f1_5: 0.0050 - precision_5: 0.0037 - recall_5: 0.0181 - val_loss: 82.0256 - val_accuracy: 0.9914 - val_accuracy_1: 0.9952 - val_accuracy_2: 0.9765 - val_accuracy_3: 0.9911 - val_accuracy_4: 0.9973 - val_accuracy_5: 0.9968 - val_f1: 0.0748 - val_precision: 0.5679 - val_recall: 0.0401 - val_f1_1: 0.0000e+00 - val_precision_1: 0.0000e+00 - val_recall_1: 0.0000e+00 - val_f1_2: 0.1282 - val_precision_2: 0.5737 - val_recall_2: 0.0721 - val_f1_3: 0.0033 - val_precision_3: 0.3120 - val_recall_3: 0.0017 - val_f1_4: 1.4597e-04 - val_precision_4: 0.0810 - val_recall_4: 7.3051e-05 - val_f1_5: 1.0876e-04 - val_precision_5: 0.0237 - val_recall_5: 5.4508e-05\n",
      "Epoch 2/60\n",
      "500/500 [==============================] - 56s 112ms/step - loss: 81.5440 - accuracy: 0.9913 - accuracy_1: 0.9953 - accuracy_2: 0.9763 - accuracy_3: 0.9910 - accuracy_4: 0.9973 - accuracy_5: 0.9967 - f1: 0.0731 - precision: 0.5159 - recall: 0.0394 - f1_1: 1.5389e-04 - precision_1: 0.0191 - recall_1: 7.7350e-05 - f1_2: 0.1209 - precision_2: 0.5580 - recall_2: 0.0679 - f1_3: 0.0169 - precision_3: 0.2256 - recall_3: 0.0088 - f1_4: 0.0013 - precision_4: 0.0713 - recall_4: 6.5400e-04 - f1_5: 0.0000e+00 - precision_5: 0.0000e+00 - recall_5: 0.0000e+00 - val_loss: 75.6198 - val_accuracy: 0.9913 - val_accuracy_1: 0.9952 - val_accuracy_2: 0.9762 - val_accuracy_3: 0.9911 - val_accuracy_4: 0.9973 - val_accuracy_5: 0.9968 - val_f1: 0.0164 - val_precision: 0.6292 - val_recall: 0.0083 - val_f1_1: 2.4069e-04 - val_precision_1: 0.0358 - val_recall_1: 1.2075e-04 - val_f1_2: 0.0295 - val_precision_2: 0.6464 - val_recall_2: 0.0151 - val_f1_3: 0.0000e+00 - val_precision_3: 0.0000e+00 - val_recall_3: 0.0000e+00 - val_f1_4: 0.0000e+00 - val_precision_4: 0.0000e+00 - val_recall_4: 0.0000e+00 - val_f1_5: 0.0000e+00 - val_precision_5: 0.0000e+00 - val_recall_5: 0.0000e+00\n",
      "Epoch 3/60\n",
      "500/500 [==============================] - 56s 111ms/step - loss: 69.5962 - accuracy: 0.9913 - accuracy_1: 0.9953 - accuracy_2: 0.9760 - accuracy_3: 0.9913 - accuracy_4: 0.9973 - accuracy_5: 0.9968 - f1: 0.0867 - precision: 0.5676 - recall: 0.0469 - f1_1: 0.0059 - precision_1: 0.1761 - recall_1: 0.0030 - f1_2: 0.1454 - precision_2: 0.5764 - recall_2: 0.0833 - f1_3: 0.0000e+00 - precision_3: 0.0000e+00 - recall_3: 0.0000e+00 - f1_4: 2.2611e-04 - precision_4: 0.0654 - recall_4: 1.1327e-04 - f1_5: 0.0000e+00 - precision_5: 0.0000e+00 - recall_5: 0.0000e+00 - val_loss: 68.1784 - val_accuracy: 0.9913 - val_accuracy_1: 0.9952 - val_accuracy_2: 0.9763 - val_accuracy_3: 0.9911 - val_accuracy_4: 0.9973 - val_accuracy_5: 0.9968 - val_f1: 0.0174 - val_precision: 0.7555 - val_recall: 0.0088 - val_f1_1: 0.0000e+00 - val_precision_1: 0.0000e+00 - val_recall_1: 0.0000e+00 - val_f1_2: 0.0313 - val_precision_2: 0.7560 - val_recall_2: 0.0160 - val_f1_3: 0.0000e+00 - val_precision_3: 0.0000e+00 - val_recall_3: 0.0000e+00 - val_f1_4: 0.0000e+00 - val_precision_4: 0.0000e+00 - val_recall_4: 0.0000e+00 - val_f1_5: 0.0000e+00 - val_precision_5: 0.0000e+00 - val_recall_5: 0.0000e+00\n",
      "Epoch 4/60\n",
      "500/500 [==============================] - 56s 111ms/step - loss: 63.7903 - accuracy: 0.9916 - accuracy_1: 0.9953 - accuracy_2: 0.9773 - accuracy_3: 0.9910 - accuracy_4: 0.9974 - accuracy_5: 0.9969 - f1: 0.1194 - precision: 0.6029 - recall: 0.0665 - f1_1: 0.0055 - precision_1: 0.2308 - recall_1: 0.0028 - f1_2: 0.1999 - precision_2: 0.6090 - recall_2: 0.1202 - f1_3: 0.0000e+00 - precision_3: 0.0000e+00 - recall_3: 0.0000e+00 - f1_4: 1.9178e-04 - precision_4: 0.0216 - recall_4: 9.6330e-05 - f1_5: 0.0000e+00 - precision_5: 0.0000e+00 - recall_5: 0.0000e+00 - val_loss: 61.9520 - val_accuracy: 0.9915 - val_accuracy_1: 0.9952 - val_accuracy_2: 0.9770 - val_accuracy_3: 0.9911 - val_accuracy_4: 0.9973 - val_accuracy_5: 0.9968 - val_f1: 0.0774 - val_precision: 0.6720 - val_recall: 0.0411 - val_f1_1: 0.0043 - val_precision_1: 0.1661 - val_recall_1: 0.0022 - val_f1_2: 0.1339 - val_precision_2: 0.6843 - val_recall_2: 0.0742 - val_f1_3: 0.0000e+00 - val_precision_3: 0.0000e+00 - val_recall_3: 0.0000e+00 - val_f1_4: 0.0000e+00 - val_precision_4: 0.0000e+00 - val_recall_4: 0.0000e+00 - val_f1_5: 0.0000e+00 - val_precision_5: 0.0000e+00 - val_recall_5: 0.0000e+00\n",
      "Epoch 5/60\n",
      "500/500 [==============================] - 56s 111ms/step - loss: 59.2224 - accuracy: 0.9917 - accuracy_1: 0.9952 - accuracy_2: 0.9778 - accuracy_3: 0.9912 - accuracy_4: 0.9974 - accuracy_5: 0.9969 - f1: 0.2093 - precision: 0.6081 - recall: 0.1271 - f1_1: 0.0102 - precision_1: 0.2542 - recall_1: 0.0052 - f1_2: 0.3293 - precision_2: 0.6124 - recall_2: 0.2272 - f1_3: 0.0000e+00 - precision_3: 0.0000e+00 - recall_3: 0.0000e+00 - f1_4: 5.7574e-04 - precision_4: 0.0439 - recall_4: 2.9010e-04 - f1_5: 0.0000e+00 - precision_5: 0.0000e+00 - recall_5: 0.0000e+00 - val_loss: 54.4493 - val_accuracy: 0.9922 - val_accuracy_1: 0.9952 - val_accuracy_2: 0.9808 - val_accuracy_3: 0.9911 - val_accuracy_4: 0.9973 - val_accuracy_5: 0.9968 - val_f1: 0.2674 - val_precision: 0.7532 - val_recall: 0.1625 - val_f1_1: 0.0211 - val_precision_1: 0.3962 - val_recall_1: 0.0109 - val_f1_2: 0.4228 - val_precision_2: 0.7582 - val_recall_2: 0.2931 - val_f1_3: 0.0000e+00 - val_precision_3: 0.0000e+00 - val_recall_3: 0.0000e+00 - val_f1_4: 1.1172e-04 - val_precision_4: 0.7222 - val_recall_4: 5.5862e-05 - val_f1_5: 0.0000e+00 - val_precision_5: 0.0000e+00 - val_recall_5: 0.0000e+00\n",
      "Epoch 6/60\n",
      "500/500 [==============================] - 56s 111ms/step - loss: 55.8780 - accuracy: 0.9921 - accuracy_1: 0.9953 - accuracy_2: 0.9806 - accuracy_3: 0.9909 - accuracy_4: 0.9972 - accuracy_5: 0.9965 - f1: 0.3202 - precision: 0.6576 - recall: 0.2117 - f1_1: 0.0445 - precision_1: 0.4246 - recall_1: 0.0236 - f1_2: 0.4853 - precision_2: 0.6663 - recall_2: 0.3820 - f1_3: 0.0051 - precision_3: 0.2952 - recall_3: 0.0026 - f1_4: 0.0031 - precision_4: 0.0551 - recall_4: 0.0016 - f1_5: 0.0000e+00 - precision_5: 0.0000e+00 - recall_5: 0.0000e+00 - val_loss: 51.9654 - val_accuracy: 0.9928 - val_accuracy_1: 0.9952 - val_accuracy_2: 0.9826 - val_accuracy_3: 0.9922 - val_accuracy_4: 0.9973 - val_accuracy_5: 0.9968 - val_f1: 0.4810 - val_precision: 0.6522 - val_recall: 0.3811 - val_f1_1: 0.0020 - val_precision_1: 0.4446 - val_recall_1: 0.0010 - val_f1_2: 0.5995 - val_precision_2: 0.6690 - val_recall_2: 0.5430 - val_f1_3: 0.4798 - val_precision_3: 0.5978 - val_recall_3: 0.4008 - val_f1_4: 9.8765e-04 - val_precision_4: 0.7099 - val_recall_4: 4.9417e-04 - val_f1_5: 0.0000e+00 - val_precision_5: 0.0000e+00 - val_recall_5: 0.0000e+00\n",
      "Epoch 7/60\n",
      "500/500 [==============================] - 56s 112ms/step - loss: 54.1348 - accuracy: 0.9925 - accuracy_1: 0.9950 - accuracy_2: 0.9817 - accuracy_3: 0.9920 - accuracy_4: 0.9972 - accuracy_5: 0.9966 - f1: 0.3975 - precision: 0.6535 - recall: 0.2857 - f1_1: 0.0531 - precision_1: 0.3431 - recall_1: 0.0288 - f1_2: 0.5245 - precision_2: 0.6880 - recall_2: 0.4241 - f1_3: 0.3402 - precision_3: 0.5613 - recall_3: 0.2448 - f1_4: 0.0215 - precision_4: 0.2652 - recall_4: 0.0113 - f1_5: 0.0000e+00 - precision_5: 0.0000e+00 - recall_5: 0.0000e+00 - val_loss: 56.4567 - val_accuracy: 0.9919 - val_accuracy_1: 0.9939 - val_accuracy_2: 0.9828 - val_accuracy_3: 0.9887 - val_accuracy_4: 0.9973 - val_accuracy_5: 0.9968 - val_f1: 0.4597 - val_precision: 0.5475 - val_recall: 0.3962 - val_f1_1: 0.2713 - val_precision_1: 0.3147 - val_recall_1: 0.2385 - val_f1_2: 0.5533 - val_precision_2: 0.7323 - val_recall_2: 0.4447 - val_f1_3: 0.4904 - val_precision_3: 0.4091 - val_recall_3: 0.6119 - val_f1_4: 0.0000e+00 - val_precision_4: 0.0000e+00 - val_recall_4: 0.0000e+00 - val_f1_5: 0.0000e+00 - val_precision_5: 0.0000e+00 - val_recall_5: 0.0000e+00\n",
      "Epoch 8/60\n"
     ]
    },
    {
     "name": "stdout",
     "output_type": "stream",
     "text": [
      "500/500 [==============================] - 56s 111ms/step - loss: 51.5671 - accuracy: 0.9927 - accuracy_1: 0.9952 - accuracy_2: 0.9822 - accuracy_3: 0.9923 - accuracy_4: 0.9973 - accuracy_5: 0.9968 - f1: 0.4373 - precision: 0.6751 - recall: 0.3241 - f1_1: 0.0789 - precision_1: 0.4270 - recall_1: 0.0438 - f1_2: 0.5551 - precision_2: 0.7095 - recall_2: 0.4578 - f1_3: 0.4026 - precision_3: 0.6153 - recall_3: 0.3003 - f1_4: 0.1016 - precision_4: 0.3292 - recall_4: 0.0606 - f1_5: 0.0000e+00 - precision_5: 0.0000e+00 - recall_5: 0.0000e+00 - val_loss: 56.9700 - val_accuracy: 0.9912 - val_accuracy_1: 0.9952 - val_accuracy_2: 0.9748 - val_accuracy_3: 0.9920 - val_accuracy_4: 0.9973 - val_accuracy_5: 0.9968 - val_f1: 0.4688 - val_precision: 0.4964 - val_recall: 0.4441 - val_f1_1: 0.0360 - val_precision_1: 0.5578 - val_recall_1: 0.0186 - val_f1_2: 0.5442 - val_precision_2: 0.4808 - val_recall_2: 0.6269 - val_f1_3: 0.4794 - val_precision_3: 0.5708 - val_recall_3: 0.4131 - val_f1_4: 0.2866 - val_precision_4: 0.4949 - val_recall_4: 0.2017 - val_f1_5: 0.0000e+00 - val_precision_5: 0.0000e+00 - val_recall_5: 0.0000e+00\n",
      "Epoch 9/60\n",
      "500/500 [==============================] - 56s 111ms/step - loss: 49.8595 - accuracy: 0.9929 - accuracy_1: 0.9953 - accuracy_2: 0.9828 - accuracy_3: 0.9922 - accuracy_4: 0.9974 - accuracy_5: 0.9967 - f1: 0.4512 - precision: 0.6752 - recall: 0.3388 - f1_1: 0.1067 - precision_1: 0.4855 - recall_1: 0.0602 - f1_2: 0.5709 - precision_2: 0.7066 - recall_2: 0.4791 - f1_3: 0.4014 - precision_3: 0.6104 - recall_3: 0.2995 - f1_4: 0.1915 - precision_4: 0.4971 - recall_4: 0.1189 - f1_5: 0.0000e+00 - precision_5: 0.0000e+00 - recall_5: 0.0000e+00 - val_loss: 49.7749 - val_accuracy: 0.9925 - val_accuracy_1: 0.9952 - val_accuracy_2: 0.9809 - val_accuracy_3: 0.9921 - val_accuracy_4: 0.9973 - val_accuracy_5: 0.9968 - val_f1: 0.2843 - val_precision: 0.8273 - val_recall: 0.1716 - val_f1_1: 0.0482 - val_precision_1: 0.4985 - val_recall_1: 0.0253 - val_f1_2: 0.3758 - val_precision_2: 0.8724 - val_recall_2: 0.2395 - val_f1_3: 0.2881 - val_precision_3: 0.7328 - val_recall_3: 0.1793 - val_f1_4: 0.0102 - val_precision_4: 0.4749 - val_recall_4: 0.0052 - val_f1_5: 0.0000e+00 - val_precision_5: 0.0000e+00 - val_recall_5: 0.0000e+00\n",
      "Epoch 10/60\n",
      "500/500 [==============================] - ETA: 0s - loss: 48.0094 - accuracy: 0.9929 - accuracy_1: 0.9951 - accuracy_2: 0.9831 - accuracy_3: 0.9923 - accuracy_4: 0.9973 - accuracy_5: 0.9968 - f1: 0.4909 - precision: 0.6956 - recall: 0.3798 - f1_1: 0.1266 - precision_1: 0.4765 - recall_1: 0.0731 - f1_2: 0.6076 - precision_2: 0.7264 - recall_2: 0.5225 - f1_3: 0.4408 - precision_3: 0.6507 - recall_3: 0.3348 - f1_4: 0.2503 - precision_4: 0.5608 - recall_4: 0.1623 - f1_5: 0.0532 - precision_5: 0.2425 - recall_5: 0.0301\n",
      "Epoch 10: saving model to /home/david/SemesterProject/Models/edge_detection/edge_detection_without_prior/CKPT/ckpt-loss=47.72-epoch=10.00-f1=0.4964\n"
     ]
    },
    {
     "name": "stderr",
     "output_type": "stream",
     "text": [
      "WARNING:absl:Found untraced functions such as _jit_compiled_convolution_op, _jit_compiled_convolution_op, _jit_compiled_convolution_op, _jit_compiled_convolution_op, _jit_compiled_convolution_op while saving (showing 5 of 44). These functions will not be directly callable after loading.\n"
     ]
    },
    {
     "name": "stdout",
     "output_type": "stream",
     "text": [
      "INFO:tensorflow:Assets written to: /home/david/SemesterProject/Models/edge_detection/edge_detection_without_prior/CKPT/ckpt-loss=47.72-epoch=10.00-f1=0.4964/assets\n"
     ]
    },
    {
     "name": "stderr",
     "output_type": "stream",
     "text": [
      "INFO:tensorflow:Assets written to: /home/david/SemesterProject/Models/edge_detection/edge_detection_without_prior/CKPT/ckpt-loss=47.72-epoch=10.00-f1=0.4964/assets\n"
     ]
    },
    {
     "name": "stdout",
     "output_type": "stream",
     "text": [
      "500/500 [==============================] - 65s 129ms/step - loss: 48.0094 - accuracy: 0.9929 - accuracy_1: 0.9951 - accuracy_2: 0.9831 - accuracy_3: 0.9923 - accuracy_4: 0.9973 - accuracy_5: 0.9968 - f1: 0.4909 - precision: 0.6956 - recall: 0.3797 - f1_1: 0.1266 - precision_1: 0.4765 - recall_1: 0.0732 - f1_2: 0.6076 - precision_2: 0.7264 - recall_2: 0.5225 - f1_3: 0.4408 - precision_3: 0.6507 - recall_3: 0.3348 - f1_4: 0.2503 - precision_4: 0.5607 - recall_4: 0.1622 - f1_5: 0.0533 - precision_5: 0.2429 - recall_5: 0.0302 - val_loss: 47.7151 - val_accuracy: 0.9930 - val_accuracy_1: 0.9952 - val_accuracy_2: 0.9848 - val_accuracy_3: 0.9908 - val_accuracy_4: 0.9973 - val_accuracy_5: 0.9968 - val_f1: 0.4964 - val_precision: 0.6646 - val_recall: 0.3961 - val_f1_1: 0.1014 - val_precision_1: 0.5274 - val_recall_1: 0.0561 - val_f1_2: 0.6104 - val_precision_2: 0.7959 - val_recall_2: 0.4950 - val_f1_3: 0.5257 - val_precision_3: 0.4854 - val_recall_3: 0.5735 - val_f1_4: 0.0042 - val_precision_4: 0.7569 - val_recall_4: 0.0021 - val_f1_5: 0.0000e+00 - val_precision_5: 0.0000e+00 - val_recall_5: 0.0000e+00\n",
      "Epoch 11/60\n",
      "500/500 [==============================] - 66s 132ms/step - loss: 46.5942 - accuracy: 0.9931 - accuracy_1: 0.9955 - accuracy_2: 0.9836 - accuracy_3: 0.9926 - accuracy_4: 0.9971 - accuracy_5: 0.9967 - f1: 0.5000 - precision: 0.6888 - recall: 0.3929 - f1_1: 0.1558 - precision_1: 0.5506 - recall_1: 0.0914 - f1_2: 0.6066 - precision_2: 0.7258 - recall_2: 0.5212 - f1_3: 0.4669 - precision_3: 0.6508 - recall_3: 0.3643 - f1_4: 0.2466 - precision_4: 0.5036 - recall_4: 0.1644 - f1_5: 0.2029 - precision_5: 0.4671 - recall_5: 0.1413 - val_loss: 45.9933 - val_accuracy: 0.9932 - val_accuracy_1: 0.9952 - val_accuracy_2: 0.9850 - val_accuracy_3: 0.9924 - val_accuracy_4: 0.9973 - val_accuracy_5: 0.9961 - val_f1: 0.5532 - val_precision: 0.6503 - val_recall: 0.4814 - val_f1_1: 0.0096 - val_precision_1: 0.6305 - val_recall_1: 0.0049 - val_f1_2: 0.6423 - val_precision_2: 0.7535 - val_recall_2: 0.5597 - val_f1_3: 0.5605 - val_precision_3: 0.5824 - val_recall_3: 0.5402 - val_f1_4: 0.2167 - val_precision_4: 0.5260 - val_recall_4: 0.1365 - val_f1_5: 0.5441 - val_precision_5: 0.4316 - val_recall_5: 0.7360\n",
      "Epoch 12/60\n",
      "500/500 [==============================] - 240s 481ms/step - loss: 45.6951 - accuracy: 0.9933 - accuracy_1: 0.9951 - accuracy_2: 0.9843 - accuracy_3: 0.9925 - accuracy_4: 0.9974 - accuracy_5: 0.9971 - f1: 0.5355 - precision: 0.6901 - recall: 0.4376 - f1_1: 0.2156 - precision_1: 0.5456 - recall_1: 0.1351 - f1_2: 0.6263 - precision_2: 0.7385 - recall_2: 0.5438 - f1_3: 0.4729 - precision_3: 0.6654 - recall_3: 0.3673 - f1_4: 0.2663 - precision_4: 0.5430 - recall_4: 0.1783 - f1_5: 0.5343 - precision_5: 0.5510 - recall_5: 0.5193 - val_loss: 45.0255 - val_accuracy: 0.9936 - val_accuracy_1: 0.9951 - val_accuracy_2: 0.9857 - val_accuracy_3: 0.9929 - val_accuracy_4: 0.9974 - val_accuracy_5: 0.9968 - val_f1: 0.5499 - val_precision: 0.7071 - val_recall: 0.4498 - val_f1_1: 0.3002 - val_precision_1: 0.4827 - val_recall_1: 0.2178 - val_f1_2: 0.6551 - val_precision_2: 0.7764 - val_recall_2: 0.5666 - val_f1_3: 0.4277 - val_precision_3: 0.7697 - val_recall_3: 0.2961 - val_f1_4: 0.0698 - val_precision_4: 0.8279 - val_recall_4: 0.0364 - val_f1_5: 0.5796 - val_precision_5: 0.4949 - val_recall_5: 0.6993\n",
      "Epoch 13/60\n",
      "500/500 [==============================] - 78s 155ms/step - loss: 44.2141 - accuracy: 0.9935 - accuracy_1: 0.9952 - accuracy_2: 0.9847 - accuracy_3: 0.9930 - accuracy_4: 0.9976 - accuracy_5: 0.9973 - f1: 0.5504 - precision: 0.7002 - recall: 0.4536 - f1_1: 0.2078 - precision_1: 0.5647 - recall_1: 0.1279 - f1_2: 0.6324 - precision_2: 0.7444 - recall_2: 0.5499 - f1_3: 0.5087 - precision_3: 0.6891 - recall_3: 0.4034 - f1_4: 0.3266 - precision_4: 0.5902 - recall_4: 0.2270 - f1_5: 0.5589 - precision_5: 0.5526 - recall_5: 0.5662 - val_loss: 42.4668 - val_accuracy: 0.9937 - val_accuracy_1: 0.9953 - val_accuracy_2: 0.9854 - val_accuracy_3: 0.9933 - val_accuracy_4: 0.9976 - val_accuracy_5: 0.9972 - val_f1: 0.6002 - val_precision: 0.6780 - val_recall: 0.5384 - val_f1_1: 0.2664 - val_precision_1: 0.5274 - val_recall_1: 0.1782 - val_f1_2: 0.6758 - val_precision_2: 0.7206 - val_recall_2: 0.6363 - val_f1_3: 0.5722 - val_precision_3: 0.6695 - val_recall_3: 0.4996 - val_f1_4: 0.4205 - val_precision_4: 0.5890 - val_recall_4: 0.3270 - val_f1_5: 0.5875 - val_precision_5: 0.5497 - val_recall_5: 0.6310\n",
      "Epoch 14/60\n",
      "500/500 [==============================] - 121s 242ms/step - loss: 43.6094 - accuracy: 0.9933 - accuracy_1: 0.9951 - accuracy_2: 0.9843 - accuracy_3: 0.9927 - accuracy_4: 0.9973 - accuracy_5: 0.9969 - f1: 0.5532 - precision: 0.6972 - recall: 0.4589 - f1_1: 0.2561 - precision_1: 0.5731 - recall_1: 0.1652 - f1_2: 0.6441 - precision_2: 0.7481 - recall_2: 0.5661 - f1_3: 0.4879 - precision_3: 0.6569 - recall_3: 0.3894 - f1_4: 0.2713 - precision_4: 0.5867 - recall_4: 0.1768 - f1_5: 0.5394 - precision_5: 0.5509 - recall_5: 0.5293 - val_loss: 44.1993 - val_accuracy: 0.9934 - val_accuracy_1: 0.9954 - val_accuracy_2: 0.9847 - val_accuracy_3: 0.9927 - val_accuracy_4: 0.9970 - val_accuracy_5: 0.9974 - val_f1: 0.5245 - val_precision: 0.7102 - val_recall: 0.4158 - val_f1_1: 0.1180 - val_precision_1: 0.7009 - val_recall_1: 0.0644 - val_f1_2: 0.5824 - val_precision_2: 0.8397 - val_recall_2: 0.4458 - val_f1_3: 0.5782 - val_precision_3: 0.6003 - val_recall_3: 0.5576 - val_f1_4: 0.3546 - val_precision_4: 0.4196 - val_recall_4: 0.3071 - val_f1_5: 0.5000 - val_precision_5: 0.6320 - val_recall_5: 0.4137\n",
      "Epoch 15/60\n",
      "500/500 [==============================] - 181s 360ms/step - loss: 42.8956 - accuracy: 0.9936 - accuracy_1: 0.9955 - accuracy_2: 0.9852 - accuracy_3: 0.9926 - accuracy_4: 0.9974 - accuracy_5: 0.9974 - f1: 0.5531 - precision: 0.6964 - recall: 0.4590 - f1_1: 0.2493 - precision_1: 0.5666 - recall_1: 0.1603 - f1_2: 0.6435 - precision_2: 0.7434 - recall_2: 0.5675 - f1_3: 0.4878 - precision_3: 0.6429 - recall_3: 0.3935 - f1_4: 0.2776 - precision_4: 0.5800 - recall_4: 0.1827 - f1_5: 0.5531 - precision_5: 0.5932 - recall_5: 0.5197 - val_loss: 46.0637 - val_accuracy: 0.9929 - val_accuracy_1: 0.9956 - val_accuracy_2: 0.9817 - val_accuracy_3: 0.9920 - val_accuracy_4: 0.9976 - val_accuracy_5: 0.9975 - val_f1: 0.6081 - val_precision: 0.5843 - val_recall: 0.6340 - val_f1_1: 0.4542 - val_precision_1: 0.5637 - val_recall_1: 0.3804 - val_f1_2: 0.6589 - val_precision_2: 0.5963 - val_recall_2: 0.7363 - val_f1_3: 0.5831 - val_precision_3: 0.5431 - val_recall_3: 0.6295 - val_f1_4: 0.3697 - val_precision_4: 0.6222 - val_recall_4: 0.2630 - val_f1_5: 0.5936 - val_precision_5: 0.6165 - val_recall_5: 0.5723\n",
      "Epoch 16/60\n",
      "500/500 [==============================] - 65s 131ms/step - loss: 42.1122 - accuracy: 0.9940 - accuracy_1: 0.9957 - accuracy_2: 0.9861 - accuracy_3: 0.9934 - accuracy_4: 0.9975 - accuracy_5: 0.9974 - f1: 0.5862 - precision: 0.7231 - recall: 0.4931 - f1_1: 0.2994 - precision_1: 0.6059 - recall_1: 0.2000 - f1_2: 0.6676 - precision_2: 0.7607 - recall_2: 0.5951 - f1_3: 0.5360 - precision_3: 0.7071 - recall_3: 0.4320 - f1_4: 0.3313 - precision_4: 0.5985 - recall_4: 0.2295 - f1_5: 0.5855 - precision_5: 0.6198 - recall_5: 0.5550 - val_loss: 46.1098 - val_accuracy: 0.9929 - val_accuracy_1: 0.9948 - val_accuracy_2: 0.9837 - val_accuracy_3: 0.9918 - val_accuracy_4: 0.9968 - val_accuracy_5: 0.9974 - val_f1: 0.6179 - val_precision: 0.5818 - val_recall: 0.6589 - val_f1_1: 0.4794 - val_precision_1: 0.4606 - val_recall_1: 0.4999 - val_f1_2: 0.6796 - val_precision_2: 0.6435 - val_recall_2: 0.7199 - val_f1_3: 0.5933 - val_precision_3: 0.5333 - val_recall_3: 0.6685 - val_f1_4: 0.4797 - val_precision_4: 0.4256 - val_recall_4: 0.5495 - val_f1_5: 0.5495 - val_precision_5: 0.6034 - val_recall_5: 0.5044\n",
      "Epoch 17/60\n"
     ]
    },
    {
     "name": "stdout",
     "output_type": "stream",
     "text": [
      "500/500 [==============================] - 58s 115ms/step - loss: 41.4079 - accuracy: 0.9942 - accuracy_1: 0.9957 - accuracy_2: 0.9864 - accuracy_3: 0.9937 - accuracy_4: 0.9975 - accuracy_5: 0.9975 - f1: 0.5760 - precision: 0.7120 - recall: 0.4839 - f1_1: 0.3164 - precision_1: 0.6012 - recall_1: 0.2157 - f1_2: 0.6572 - precision_2: 0.7507 - recall_2: 0.5850 - f1_3: 0.5351 - precision_3: 0.6992 - recall_3: 0.4337 - f1_4: 0.3003 - precision_4: 0.6095 - recall_4: 0.2001 - f1_5: 0.5588 - precision_5: 0.5879 - recall_5: 0.5334 - val_loss: 40.7535 - val_accuracy: 0.9937 - val_accuracy_1: 0.9958 - val_accuracy_2: 0.9845 - val_accuracy_3: 0.9938 - val_accuracy_4: 0.9977 - val_accuracy_5: 0.9964 - val_f1: 0.5416 - val_precision: 0.7319 - val_recall: 0.4299 - val_f1_1: 0.4279 - val_precision_1: 0.6152 - val_recall_1: 0.3280 - val_f1_2: 0.5607 - val_precision_2: 0.8807 - val_recall_2: 0.4113 - val_f1_3: 0.5714 - val_precision_3: 0.7542 - val_recall_3: 0.4599 - val_f1_4: 0.3677 - val_precision_4: 0.6845 - val_recall_4: 0.2513 - val_f1_5: 0.5857 - val_precision_5: 0.4652 - val_recall_5: 0.7904\n",
      "Epoch 18/60\n",
      "500/500 [==============================] - 68s 136ms/step - loss: 40.7643 - accuracy: 0.9941 - accuracy_1: 0.9956 - accuracy_2: 0.9863 - accuracy_3: 0.9936 - accuracy_4: 0.9976 - accuracy_5: 0.9975 - f1: 0.5951 - precision: 0.7234 - recall: 0.5055 - f1_1: 0.3633 - precision_1: 0.6434 - recall_1: 0.2540 - f1_2: 0.6711 - precision_2: 0.7620 - recall_2: 0.5996 - f1_3: 0.5550 - precision_3: 0.7159 - recall_3: 0.4533 - f1_4: 0.3639 - precision_4: 0.6167 - recall_4: 0.2585 - f1_5: 0.5761 - precision_5: 0.5892 - recall_5: 0.5681 - val_loss: 41.9288 - val_accuracy: 0.9938 - val_accuracy_1: 0.9957 - val_accuracy_2: 0.9856 - val_accuracy_3: 0.9937 - val_accuracy_4: 0.9973 - val_accuracy_5: 0.9969 - val_f1: 0.5516 - val_precision: 0.7561 - val_recall: 0.4342 - val_f1_1: 0.4303 - val_precision_1: 0.5896 - val_recall_1: 0.3387 - val_f1_2: 0.6119 - val_precision_2: 0.8654 - val_recall_2: 0.4733 - val_f1_3: 0.5311 - val_precision_3: 0.7866 - val_recall_3: 0.4008 - val_f1_4: 0.0055 - val_precision_4: 0.9355 - val_recall_4: 0.0027 - val_f1_5: 0.6071 - val_precision_5: 0.5137 - val_recall_5: 0.7421\n",
      "Epoch 19/60\n",
      "500/500 [==============================] - 117s 234ms/step - loss: 40.3023 - accuracy: 0.9941 - accuracy_1: 0.9957 - accuracy_2: 0.9863 - accuracy_3: 0.9934 - accuracy_4: 0.9975 - accuracy_5: 0.9975 - f1: 0.5962 - precision: 0.7266 - recall: 0.5056 - f1_1: 0.3325 - precision_1: 0.6210 - recall_1: 0.2274 - f1_2: 0.6764 - precision_2: 0.7640 - recall_2: 0.6070 - f1_3: 0.5463 - precision_3: 0.7076 - recall_3: 0.4451 - f1_4: 0.3482 - precision_4: 0.6426 - recall_4: 0.2412 - f1_5: 0.5820 - precision_5: 0.6117 - recall_5: 0.5556 - val_loss: 39.2853 - val_accuracy: 0.9940 - val_accuracy_1: 0.9959 - val_accuracy_2: 0.9864 - val_accuracy_3: 0.9939 - val_accuracy_4: 0.9976 - val_accuracy_5: 0.9960 - val_f1: 0.5852 - val_precision: 0.7306 - val_recall: 0.4880 - val_f1_1: 0.3045 - val_precision_1: 0.8004 - val_recall_1: 0.1880 - val_f1_2: 0.6645 - val_precision_2: 0.8138 - val_recall_2: 0.5614 - val_f1_3: 0.5649 - val_precision_3: 0.7822 - val_recall_3: 0.4421 - val_f1_4: 0.2593 - val_precision_4: 0.7781 - val_recall_4: 0.1556 - val_f1_5: 0.5612 - val_precision_5: 0.4333 - val_recall_5: 0.7964\n",
      "Epoch 20/60\n",
      "499/500 [============================>.] - ETA: 0s - loss: 39.0573 - accuracy: 0.9941 - accuracy_1: 0.9957 - accuracy_2: 0.9861 - accuracy_3: 0.9937 - accuracy_4: 0.9976 - accuracy_5: 0.9975 - f1: 0.6050 - precision: 0.7273 - recall: 0.5181 - f1_1: 0.3963 - precision_1: 0.6656 - recall_1: 0.2824 - f1_2: 0.6769 - precision_2: 0.7629 - recall_2: 0.6084 - f1_3: 0.5653 - precision_3: 0.7010 - recall_3: 0.4742 - f1_4: 0.3710 - precision_4: 0.6411 - recall_4: 0.2614 - f1_5: 0.5819 - precision_5: 0.6197 - recall_5: 0.5489\n",
      "Epoch 20: saving model to /home/david/SemesterProject/Models/edge_detection/edge_detection_without_prior/CKPT/ckpt-loss=38.65-epoch=20.00-f1=0.6380\n"
     ]
    },
    {
     "name": "stderr",
     "output_type": "stream",
     "text": [
      "WARNING:absl:Found untraced functions such as _jit_compiled_convolution_op, _jit_compiled_convolution_op, _jit_compiled_convolution_op, _jit_compiled_convolution_op, _jit_compiled_convolution_op while saving (showing 5 of 44). These functions will not be directly callable after loading.\n"
     ]
    },
    {
     "name": "stdout",
     "output_type": "stream",
     "text": [
      "INFO:tensorflow:Assets written to: /home/david/SemesterProject/Models/edge_detection/edge_detection_without_prior/CKPT/ckpt-loss=38.65-epoch=20.00-f1=0.6380/assets\n"
     ]
    },
    {
     "name": "stderr",
     "output_type": "stream",
     "text": [
      "INFO:tensorflow:Assets written to: /home/david/SemesterProject/Models/edge_detection/edge_detection_without_prior/CKPT/ckpt-loss=38.65-epoch=20.00-f1=0.6380/assets\n"
     ]
    },
    {
     "name": "stdout",
     "output_type": "stream",
     "text": [
      "500/500 [==============================] - 90s 180ms/step - loss: 39.0756 - accuracy: 0.9941 - accuracy_1: 0.9957 - accuracy_2: 0.9861 - accuracy_3: 0.9937 - accuracy_4: 0.9976 - accuracy_5: 0.9975 - f1: 0.6050 - precision: 0.7273 - recall: 0.5181 - f1_1: 0.3962 - precision_1: 0.6655 - recall_1: 0.2823 - f1_2: 0.6769 - precision_2: 0.7629 - recall_2: 0.6084 - f1_3: 0.5653 - precision_3: 0.7011 - recall_3: 0.4742 - f1_4: 0.3710 - precision_4: 0.6411 - recall_4: 0.2614 - f1_5: 0.5819 - precision_5: 0.6197 - recall_5: 0.5489 - val_loss: 38.6482 - val_accuracy: 0.9940 - val_accuracy_1: 0.9961 - val_accuracy_2: 0.9858 - val_accuracy_3: 0.9938 - val_accuracy_4: 0.9977 - val_accuracy_5: 0.9964 - val_f1: 0.6380 - val_precision: 0.6680 - val_recall: 0.6106 - val_f1_1: 0.4288 - val_precision_1: 0.7011 - val_recall_1: 0.3089 - val_f1_2: 0.7087 - val_precision_2: 0.6994 - val_recall_2: 0.7182 - val_f1_3: 0.5991 - val_precision_3: 0.7116 - val_recall_3: 0.5173 - val_f1_4: 0.3927 - val_precision_4: 0.6926 - val_recall_4: 0.2740 - val_f1_5: 0.5843 - val_precision_5: 0.4600 - val_recall_5: 0.8006\n",
      "Epoch 21/60\n",
      "500/500 [==============================] - 74s 147ms/step - loss: 39.2427 - accuracy: 0.9942 - accuracy_1: 0.9960 - accuracy_2: 0.9863 - accuracy_3: 0.9938 - accuracy_4: 0.9977 - accuracy_5: 0.9974 - f1: 0.6176 - precision: 0.7341 - recall: 0.5331 - f1_1: 0.3841 - precision_1: 0.6495 - recall_1: 0.2730 - f1_2: 0.6903 - precision_2: 0.7682 - recall_2: 0.6272 - f1_3: 0.5770 - precision_3: 0.7261 - recall_3: 0.4791 - f1_4: 0.3731 - precision_4: 0.6543 - recall_4: 0.2618 - f1_5: 0.5849 - precision_5: 0.6090 - recall_5: 0.5635 - val_loss: 38.9844 - val_accuracy: 0.9940 - val_accuracy_1: 0.9960 - val_accuracy_2: 0.9848 - val_accuracy_3: 0.9937 - val_accuracy_4: 0.9977 - val_accuracy_5: 0.9977 - val_f1: 0.6456 - val_precision: 0.6613 - val_recall: 0.6306 - val_f1_1: 0.5048 - val_precision_1: 0.6206 - val_recall_1: 0.4254 - val_f1_2: 0.7028 - val_precision_2: 0.6614 - val_recall_2: 0.7497 - val_f1_3: 0.6210 - val_precision_3: 0.6708 - val_recall_3: 0.5781 - val_f1_4: 0.4083 - val_precision_4: 0.6481 - val_recall_4: 0.2981 - val_f1_5: 0.5612 - val_precision_5: 0.6953 - val_recall_5: 0.4704\n",
      "Epoch 22/60\n",
      "500/500 [==============================] - 59s 119ms/step - loss: 39.0515 - accuracy: 0.9942 - accuracy_1: 0.9958 - accuracy_2: 0.9863 - accuracy_3: 0.9936 - accuracy_4: 0.9976 - accuracy_5: 0.9975 - f1: 0.6046 - precision: 0.7320 - recall: 0.5152 - f1_1: 0.3635 - precision_1: 0.6255 - recall_1: 0.2574 - f1_2: 0.6819 - precision_2: 0.7697 - recall_2: 0.6122 - f1_3: 0.5605 - precision_3: 0.7190 - recall_3: 0.4597 - f1_4: 0.3224 - precision_4: 0.6375 - recall_4: 0.2184 - f1_5: 0.5876 - precision_5: 0.6101 - recall_5: 0.5673 - val_loss: 38.6979 - val_accuracy: 0.9941 - val_accuracy_1: 0.9958 - val_accuracy_2: 0.9872 - val_accuracy_3: 0.9937 - val_accuracy_4: 0.9976 - val_accuracy_5: 0.9961 - val_f1: 0.6376 - val_precision: 0.6838 - val_recall: 0.5972 - val_f1_1: 0.3085 - val_precision_1: 0.7580 - val_recall_1: 0.1936 - val_f1_2: 0.7107 - val_precision_2: 0.7741 - val_recall_2: 0.6570 - val_f1_3: 0.6312 - val_precision_3: 0.6633 - val_recall_3: 0.6020 - val_f1_4: 0.5225 - val_precision_4: 0.5596 - val_recall_4: 0.4899 - val_f1_5: 0.5754 - val_precision_5: 0.4399 - val_recall_5: 0.8318\n",
      "Epoch 23/60\n",
      "500/500 [==============================] - 62s 123ms/step - loss: 38.1042 - accuracy: 0.9942 - accuracy_1: 0.9955 - accuracy_2: 0.9864 - accuracy_3: 0.9937 - accuracy_4: 0.9977 - accuracy_5: 0.9975 - f1: 0.6211 - precision: 0.7366 - recall: 0.5370 - f1_1: 0.3884 - precision_1: 0.6429 - recall_1: 0.2801 - f1_2: 0.6944 - precision_2: 0.7740 - recall_2: 0.6298 - f1_3: 0.5814 - precision_3: 0.7216 - recall_3: 0.4869 - f1_4: 0.3865 - precision_4: 0.6451 - recall_4: 0.2770 - f1_5: 0.6064 - precision_5: 0.6243 - recall_5: 0.5902 - val_loss: 37.4463 - val_accuracy: 0.9944 - val_accuracy_1: 0.9958 - val_accuracy_2: 0.9873 - val_accuracy_3: 0.9938 - val_accuracy_4: 0.9977 - val_accuracy_5: 0.9974 - val_f1: 0.6441 - val_precision: 0.7212 - val_recall: 0.5818 - val_f1_1: 0.5162 - val_precision_1: 0.5832 - val_recall_1: 0.4631 - val_f1_2: 0.7033 - val_precision_2: 0.8019 - val_recall_2: 0.6262 - val_f1_3: 0.6349 - val_precision_3: 0.6661 - val_recall_3: 0.6065 - val_f1_4: 0.2994 - val_precision_4: 0.7737 - val_recall_4: 0.1856 - val_f1_5: 0.6267 - val_precision_5: 0.5727 - val_recall_5: 0.6920\n",
      "Epoch 24/60\n",
      "500/500 [==============================] - 97s 194ms/step - loss: 37.6205 - accuracy: 0.9942 - accuracy_1: 0.9959 - accuracy_2: 0.9866 - accuracy_3: 0.9937 - accuracy_4: 0.9977 - accuracy_5: 0.9973 - f1: 0.6180 - precision: 0.7367 - recall: 0.5323 - f1_1: 0.4151 - precision_1: 0.6780 - recall_1: 0.2996 - f1_2: 0.6926 - precision_2: 0.7740 - recall_2: 0.6268 - f1_3: 0.5692 - precision_3: 0.7192 - recall_3: 0.4715 - f1_4: 0.3833 - precision_4: 0.6648 - recall_4: 0.2705 - f1_5: 0.5797 - precision_5: 0.6038 - recall_5: 0.5584 - val_loss: 35.7971 - val_accuracy: 0.9945 - val_accuracy_1: 0.9961 - val_accuracy_2: 0.9874 - val_accuracy_3: 0.9936 - val_accuracy_4: 0.9977 - val_accuracy_5: 0.9976 - val_f1: 0.6320 - val_precision: 0.7592 - val_recall: 0.5413 - val_f1_1: 0.4026 - val_precision_1: 0.7725 - val_recall_1: 0.2722 - val_f1_2: 0.7004 - val_precision_2: 0.8191 - val_recall_2: 0.6118 - val_f1_3: 0.6180 - val_precision_3: 0.6650 - val_recall_3: 0.5772 - val_f1_4: 0.3794 - val_precision_4: 0.7240 - val_recall_4: 0.2571 - val_f1_5: 0.5941 - val_precision_5: 0.6389 - val_recall_5: 0.5552\n",
      "Epoch 25/60\n",
      "500/500 [==============================] - 64s 127ms/step - loss: 37.4849 - accuracy: 0.9944 - accuracy_1: 0.9961 - accuracy_2: 0.9869 - accuracy_3: 0.9940 - accuracy_4: 0.9976 - accuracy_5: 0.9975 - f1: 0.6331 - precision: 0.7492 - recall: 0.5485 - f1_1: 0.4446 - precision_1: 0.6903 - recall_1: 0.3284 - f1_2: 0.6994 - precision_2: 0.7840 - recall_2: 0.6314 - f1_3: 0.6036 - precision_3: 0.7417 - recall_3: 0.5096 - f1_4: 0.4091 - precision_4: 0.6578 - recall_4: 0.2972 - f1_5: 0.5988 - precision_5: 0.6214 - recall_5: 0.5796 - val_loss: 36.2878 - val_accuracy: 0.9945 - val_accuracy_1: 0.9958 - val_accuracy_2: 0.9873 - val_accuracy_3: 0.9940 - val_accuracy_4: 0.9977 - val_accuracy_5: 0.9975 - val_f1: 0.6317 - val_precision: 0.7549 - val_recall: 0.5430 - val_f1_1: 0.3832 - val_precision_1: 0.6654 - val_recall_1: 0.2691 - val_f1_2: 0.7091 - val_precision_2: 0.7879 - val_recall_2: 0.6446 - val_f1_3: 0.5818 - val_precision_3: 0.7784 - val_recall_3: 0.4644 - val_f1_4: 0.3590 - val_precision_4: 0.7404 - val_recall_4: 0.2370 - val_f1_5: 0.6284 - val_precision_5: 0.5920 - val_recall_5: 0.6696\n",
      "Epoch 26/60\n",
      "500/500 [==============================] - 62s 124ms/step - loss: 36.9704 - accuracy: 0.9944 - accuracy_1: 0.9960 - accuracy_2: 0.9868 - accuracy_3: 0.9939 - accuracy_4: 0.9977 - accuracy_5: 0.9975 - f1: 0.6304 - precision: 0.7420 - recall: 0.5480 - f1_1: 0.3967 - precision_1: 0.6570 - recall_1: 0.2857 - f1_2: 0.7015 - precision_2: 0.7767 - recall_2: 0.6398 - f1_3: 0.5967 - precision_3: 0.7316 - recall_3: 0.5040 - f1_4: 0.4210 - precision_4: 0.6555 - recall_4: 0.3108 - f1_5: 0.5907 - precision_5: 0.6230 - recall_5: 0.5625 - val_loss: 35.4616 - val_accuracy: 0.9946 - val_accuracy_1: 0.9956 - val_accuracy_2: 0.9876 - val_accuracy_3: 0.9942 - val_accuracy_4: 0.9978 - val_accuracy_5: 0.9977 - val_f1: 0.6242 - val_precision: 0.7863 - val_recall: 0.5176 - val_f1_1: 0.1948 - val_precision_1: 0.8206 - val_recall_1: 0.1105 - val_f1_2: 0.7067 - val_precision_2: 0.8159 - val_recall_2: 0.6233 - val_f1_3: 0.6253 - val_precision_3: 0.7353 - val_recall_3: 0.5440 - val_f1_4: 0.3749 - val_precision_4: 0.7546 - val_recall_4: 0.2494 - val_f1_5: 0.5733 - val_precision_5: 0.6965 - val_recall_5: 0.4871\n",
      "Epoch 27/60\n"
     ]
    },
    {
     "name": "stdout",
     "output_type": "stream",
     "text": [
      "500/500 [==============================] - 97s 193ms/step - loss: 36.7082 - accuracy: 0.9943 - accuracy_1: 0.9957 - accuracy_2: 0.9869 - accuracy_3: 0.9938 - accuracy_4: 0.9977 - accuracy_5: 0.9976 - f1: 0.6263 - precision: 0.7346 - recall: 0.5459 - f1_1: 0.3900 - precision_1: 0.6191 - recall_1: 0.2856 - f1_2: 0.7001 - precision_2: 0.7772 - recall_2: 0.6370 - f1_3: 0.5850 - precision_3: 0.7142 - recall_3: 0.4964 - f1_4: 0.4102 - precision_4: 0.6521 - recall_4: 0.3000 - f1_5: 0.6063 - precision_5: 0.6178 - recall_5: 0.5956 - val_loss: 35.6151 - val_accuracy: 0.9945 - val_accuracy_1: 0.9962 - val_accuracy_2: 0.9873 - val_accuracy_3: 0.9938 - val_accuracy_4: 0.9978 - val_accuracy_5: 0.9974 - val_f1: 0.6606 - val_precision: 0.7147 - val_recall: 0.6141 - val_f1_1: 0.4132 - val_precision_1: 0.7859 - val_recall_1: 0.2803 - val_f1_2: 0.7231 - val_precision_2: 0.7559 - val_recall_2: 0.6931 - val_f1_3: 0.6396 - val_precision_3: 0.6685 - val_recall_3: 0.6130 - val_f1_4: 0.4758 - val_precision_4: 0.6750 - val_recall_4: 0.3674 - val_f1_5: 0.6410 - val_precision_5: 0.5699 - val_recall_5: 0.7325\n",
      "Epoch 28/60\n",
      "500/500 [==============================] - ETA: 0s - loss: 35.5791 - accuracy: 0.9945 - accuracy_1: 0.9959 - accuracy_2: 0.9872 - accuracy_3: 0.9939 - accuracy_4: 0.9980 - accuracy_5: 0.9975 - f1: 0.6459 - precision: 0.7508 - recall: 0.5668 - f1_1: 0.4541 - precision_1: 0.6732 - recall_1: 0.3431 - f1_2: 0.7155 - precision_2: 0.7874 - recall_2: 0.6556 - f1_3: 0.5993 - precision_3: 0.7309 - recall_3: 0.5080 - f1_4: 0.4461 - precision_4: 0.6879 - recall_4: 0.3314 - f1_5: 0.6047 - precision_5: 0.6341 - recall_5: 0.5790"
     ]
    }
   ],
   "source": [
    "if Model.train_model:\n",
    "    model = Model.get_neural_network_model(DataProcessing.num_classes['edge'])\n",
    "    # model.summary()\n",
    "\n",
    "    lr = Model.get_lr(img_count_train, DataProcessing.cfg['TRAIN']['BATCH_SIZE'])\n",
    "    model.compile(optimizer=tf.keras.optimizers.Adam(lr),\n",
    "                  loss=Model.get_loss_function(),\n",
    "                  metrics=Model.get_metrics(DataProcessing.num_classes['edge']))\n",
    "\n",
    "    history = model.fit(train_ds, epochs=Model.cfg[\"EPOCHS\"], validation_data=train_ds,\n",
    "                        callbacks=Model.get_callbacks(), verbose=1)\n",
    "\n",
    "model = Model.get_best_model_from_checkpoints()"
   ]
  },
  {
   "cell_type": "markdown",
   "metadata": {},
   "source": []
  },
  {
   "cell_type": "markdown",
   "metadata": {},
   "source": [
    "# Plot Results"
   ]
  },
  {
   "cell_type": "code",
   "execution_count": null,
   "metadata": {},
   "outputs": [],
   "source": [
    "if Model.train_model:\n",
    "    plot_losses = [\"loss\", \"loss\"]\n",
    "    plot_metrics = [\"accuracy\", \"f1\", \"recall\", \"precision\"]\n",
    "\n",
    "    path = os.path.join(Model.Data.paths[\"FIGURES\"], \"training.svg\")\n",
    "\n",
    "    plots.plot_training_history(history=history.history, list_of_loss_names=plot_losses,\n",
    "                                list_of_metric_names=plot_metrics,\n",
    "                                save=Model.cfg[\"SAVE\"], path=path)"
   ]
  },
  {
   "cell_type": "code",
   "execution_count": null,
   "metadata": {},
   "outputs": [],
   "source": [
    "for inp, out in test_ds.take(1):\n",
    "    pred = model.predict(inp)\n",
    "    edge_detection_plots.plot_edges(images=inp['in_img'], labels=out['out_edge'],\n",
    "                                    predictions=pred,\n",
    "                                    batch_size=DataProcessing.cfg['TEST']['BATCH_SIZE'],\n",
    "                                    num_classes=DataProcessing.num_classes['edge'])"
   ]
  },
  {
   "cell_type": "code",
   "execution_count": null,
   "metadata": {},
   "outputs": [],
   "source": [
    "for inp, out in img_only_ds.take(1):\n",
    "    pred = model.predict(inp)\n",
    "    edge_detection_plots.plot_edges(images=inp['in_img'],\n",
    "                                    predictions=pred,\n",
    "                                    batch_size=DataProcessing.cfg['IMG_ONLY']['BATCH_SIZE'],\n",
    "                                    num_classes=DataProcessing.num_classes['edge'])"
   ]
  },
  {
   "cell_type": "code",
   "execution_count": null,
   "metadata": {},
   "outputs": [],
   "source": [
    "### Maximum F1 Score:\n",
    "path_metrics_evaluation_plot = os.path.join(Model.Data.paths[\"FIGURES\"],\n",
    "                                            \"threshold_metrics_evaluation_test_ds.svg\")\n",
    "\n",
    "edge_detection_plots.plot_threshold_metrics_evaluation(model=model, ds=test_ds,\n",
    "                                                       num_classes=DataProcessing.num_classes['edge'],\n",
    "                                                       classes_displayed_individually=True,\n",
    "                                                       save=Model.cfg[\"SAVE\"],\n",
    "                                                       path=path_metrics_evaluation_plot,\n",
    "                                                       accuracy_y_lim_min=0.8)\n"
   ]
  },
  {
   "cell_type": "code",
   "execution_count": null,
   "metadata": {},
   "outputs": [],
   "source": []
  },
  {
   "cell_type": "code",
   "execution_count": null,
   "metadata": {},
   "outputs": [],
   "source": [
    "if Model.cfg[\"CONVERT_TO_TFLITE\"]:\n",
    "    Model.convert_model_to_tflite(model)"
   ]
  },
  {
   "cell_type": "code",
   "execution_count": null,
   "metadata": {},
   "outputs": [],
   "source": []
  },
  {
   "cell_type": "code",
   "execution_count": null,
   "metadata": {
    "scrolled": true
   },
   "outputs": [],
   "source": [
    "base_model = tf.keras.applications.MobileNetV2(include_top=False,input_shape=[640,360,3])\n",
    "\n",
    "input_model = tf.keras.Input(shape=[640,360,3])\n",
    "x = tf.keras.applications.mobilenet_v2.preprocess_input(input_model)\n",
    "x = base_model(x, training=True)\n",
    "model = tf.keras.Model(input_model, x)\n",
    "model.trainable = False\n",
    "model.save(Model.Data.paths['TFLITE'])\n",
    "\n",
    "converter = tf.lite.TFLiteConverter.from_saved_model(Model.Data.paths[\"TFLITE\"])\n",
    "converter.optimizations = [tf.lite.Optimize.DEFAULT]\n",
    "converter.target_spec.supported_types = [tf.float16]\n",
    "tflite_model = converter.convert()\n",
    "tf.lite.experimental.Analyzer.analyze(model_content=tflite_model, gpu_compatibility=True)\n",
    "\n",
    "# Save the model.\n",
    "with open(Model.Data.files['OUTPUT_TFLITE_MODEL'], 'wb') as f:\n",
    "    f.write(tflite_model)"
   ]
  },
  {
   "cell_type": "code",
   "execution_count": null,
   "metadata": {},
   "outputs": [],
   "source": []
  },
  {
   "cell_type": "code",
   "execution_count": null,
   "metadata": {},
   "outputs": [],
   "source": []
  }
 ],
 "metadata": {
  "kernelspec": {
   "display_name": "tf",
   "language": "python",
   "name": "tf"
  },
  "language_info": {
   "codemirror_mode": {
    "name": "ipython",
    "version": 3
   },
   "file_extension": ".py",
   "mimetype": "text/x-python",
   "name": "python",
   "nbconvert_exporter": "python",
   "pygments_lexer": "ipython3",
   "version": "3.9.13"
  }
 },
 "nbformat": 4,
 "nbformat_minor": 4
}
