{
 "cells": [
  {
   "cell_type": "code",
   "execution_count": 3,
   "metadata": {
    "collapsed": true
   },
   "outputs": [
    {
     "name": "stderr",
     "output_type": "stream",
     "text": [
      "2022-11-23 19:26:21.052958: E tensorflow/stream_executor/cuda/cuda_driver.cc:271] failed call to cuInit: CUDA_ERROR_NO_DEVICE: no CUDA-capable device is detected\n",
      "2022-11-23 19:26:21.053013: I tensorflow/stream_executor/cuda/cuda_diagnostics.cc:156] kernel driver does not appear to be running on this host (david-ThinkPad-X1-Yoga-Gen-6): /proc/driver/nvidia/version does not exist\n",
      "2022-11-23 19:26:21.053697: I tensorflow/core/platform/cpu_feature_guard.cc:193] This TensorFlow binary is optimized with oneAPI Deep Neural Network Library (oneDNN) to use the following CPU instructions in performance-critical operations:  AVX2 AVX512F AVX512_VNNI FMA\n",
      "To enable them in other operations, rebuild TensorFlow with the appropriate compiler flags.\n"
     ]
    },
    {
     "ename": "TypeError",
     "evalue": "You are passing KerasTensor(type_spec=TensorSpec(shape=(None, 5), dtype=tf.float32, name=None), name='dense/BiasAdd:0', description=\"created by layer 'dense'\"), an intermediate Keras symbolic input/output, to a TF API that does not allow registering custom dispatchers, such as `tf.cond`, `tf.function`, gradient tapes, or `tf.map_fn`. Keras Functional model construction only supports TF API calls that *do* support dispatching, such as `tf.math.add` or `tf.reshape`. Other APIs cannot be called directly on symbolic Kerasinputs/outputs. You can work around this limitation by putting the operation in a custom Keras layer `call` and calling that layer on this symbolic input/output.",
     "output_type": "error",
     "traceback": [
      "\u001B[0;31m---------------------------------------------------------------------------\u001B[0m",
      "\u001B[0;31mTypeError\u001B[0m                                 Traceback (most recent call last)",
      "Input \u001B[0;32mIn [3]\u001B[0m, in \u001B[0;36m<cell line: 21>\u001B[0;34m()\u001B[0m\n\u001B[1;32m     19\u001B[0m input_model \u001B[38;5;241m=\u001B[39m tf\u001B[38;5;241m.\u001B[39mkeras\u001B[38;5;241m.\u001B[39mInput(shape\u001B[38;5;241m=\u001B[39m(\u001B[38;5;241m1\u001B[39m,))\n\u001B[1;32m     20\u001B[0m x \u001B[38;5;241m=\u001B[39m tf\u001B[38;5;241m.\u001B[39mkeras\u001B[38;5;241m.\u001B[39mlayers\u001B[38;5;241m.\u001B[39mDense(\u001B[38;5;241m5\u001B[39m)(input_model)\n\u001B[0;32m---> 21\u001B[0m output \u001B[38;5;241m=\u001B[39m \u001B[43mget_model\u001B[49m\u001B[43m(\u001B[49m\u001B[43mx\u001B[49m\u001B[43m,\u001B[49m\u001B[43m \u001B[49m\u001B[38;5;241;43m20\u001B[39;49m\u001B[43m)\u001B[49m\n\u001B[1;32m     22\u001B[0m output \u001B[38;5;241m=\u001B[39m get_model(x, \u001B[38;5;241m20\u001B[39m)\n\u001B[1;32m     23\u001B[0m output \u001B[38;5;241m=\u001B[39m get_model(x, \u001B[38;5;241m5\u001B[39m)\n",
      "File \u001B[0;32m~/miniconda3/envs/tf/lib/python3.9/site-packages/tensorflow/python/util/traceback_utils.py:153\u001B[0m, in \u001B[0;36mfilter_traceback.<locals>.error_handler\u001B[0;34m(*args, **kwargs)\u001B[0m\n\u001B[1;32m    151\u001B[0m \u001B[38;5;28;01mexcept\u001B[39;00m \u001B[38;5;167;01mException\u001B[39;00m \u001B[38;5;28;01mas\u001B[39;00m e:\n\u001B[1;32m    152\u001B[0m   filtered_tb \u001B[38;5;241m=\u001B[39m _process_traceback_frames(e\u001B[38;5;241m.\u001B[39m__traceback__)\n\u001B[0;32m--> 153\u001B[0m   \u001B[38;5;28;01mraise\u001B[39;00m e\u001B[38;5;241m.\u001B[39mwith_traceback(filtered_tb) \u001B[38;5;28;01mfrom\u001B[39;00m \u001B[38;5;28mNone\u001B[39m\n\u001B[1;32m    154\u001B[0m \u001B[38;5;28;01mfinally\u001B[39;00m:\n\u001B[1;32m    155\u001B[0m   \u001B[38;5;28;01mdel\u001B[39;00m filtered_tb\n",
      "File \u001B[0;32m~/miniconda3/envs/tf/lib/python3.9/site-packages/keras/engine/keras_tensor.py:254\u001B[0m, in \u001B[0;36mKerasTensor.__array__\u001B[0;34m(self, dtype)\u001B[0m\n\u001B[1;32m    253\u001B[0m \u001B[38;5;28;01mdef\u001B[39;00m \u001B[38;5;21m__array__\u001B[39m(\u001B[38;5;28mself\u001B[39m, dtype\u001B[38;5;241m=\u001B[39m\u001B[38;5;28;01mNone\u001B[39;00m):\n\u001B[0;32m--> 254\u001B[0m   \u001B[38;5;28;01mraise\u001B[39;00m \u001B[38;5;167;01mTypeError\u001B[39;00m(\n\u001B[1;32m    255\u001B[0m       \u001B[38;5;124mf\u001B[39m\u001B[38;5;124m'\u001B[39m\u001B[38;5;124mYou are passing \u001B[39m\u001B[38;5;132;01m{\u001B[39;00m\u001B[38;5;28mself\u001B[39m\u001B[38;5;132;01m}\u001B[39;00m\u001B[38;5;124m, an intermediate Keras symbolic input/output, \u001B[39m\u001B[38;5;124m'\u001B[39m\n\u001B[1;32m    256\u001B[0m       \u001B[38;5;124m'\u001B[39m\u001B[38;5;124mto a TF API that does not allow registering custom dispatchers, such \u001B[39m\u001B[38;5;124m'\u001B[39m\n\u001B[1;32m    257\u001B[0m       \u001B[38;5;124m'\u001B[39m\u001B[38;5;124mas `tf.cond`, `tf.function`, gradient tapes, or `tf.map_fn`. \u001B[39m\u001B[38;5;124m'\u001B[39m\n\u001B[1;32m    258\u001B[0m       \u001B[38;5;124m'\u001B[39m\u001B[38;5;124mKeras Functional model construction only supports \u001B[39m\u001B[38;5;124m'\u001B[39m\n\u001B[1;32m    259\u001B[0m       \u001B[38;5;124m'\u001B[39m\u001B[38;5;124mTF API calls that *do* support dispatching, such as `tf.math.add` or \u001B[39m\u001B[38;5;124m'\u001B[39m\n\u001B[1;32m    260\u001B[0m       \u001B[38;5;124m'\u001B[39m\u001B[38;5;124m`tf.reshape`. \u001B[39m\u001B[38;5;124m'\u001B[39m\n\u001B[1;32m    261\u001B[0m       \u001B[38;5;124m'\u001B[39m\u001B[38;5;124mOther APIs cannot be called directly on symbolic Keras\u001B[39m\u001B[38;5;124m'\u001B[39m\n\u001B[1;32m    262\u001B[0m       \u001B[38;5;124m'\u001B[39m\u001B[38;5;124minputs/outputs. You can work around \u001B[39m\u001B[38;5;124m'\u001B[39m\n\u001B[1;32m    263\u001B[0m       \u001B[38;5;124m'\u001B[39m\u001B[38;5;124mthis limitation by putting the operation in a custom Keras layer \u001B[39m\u001B[38;5;124m'\u001B[39m\n\u001B[1;32m    264\u001B[0m       \u001B[38;5;124m'\u001B[39m\u001B[38;5;124m`call` and calling that layer \u001B[39m\u001B[38;5;124m'\u001B[39m\n\u001B[1;32m    265\u001B[0m       \u001B[38;5;124m'\u001B[39m\u001B[38;5;124mon this symbolic input/output.\u001B[39m\u001B[38;5;124m'\u001B[39m)\n",
      "\u001B[0;31mTypeError\u001B[0m: You are passing KerasTensor(type_spec=TensorSpec(shape=(None, 5), dtype=tf.float32, name=None), name='dense/BiasAdd:0', description=\"created by layer 'dense'\"), an intermediate Keras symbolic input/output, to a TF API that does not allow registering custom dispatchers, such as `tf.cond`, `tf.function`, gradient tapes, or `tf.map_fn`. Keras Functional model construction only supports TF API calls that *do* support dispatching, such as `tf.math.add` or `tf.reshape`. Other APIs cannot be called directly on symbolic Kerasinputs/outputs. You can work around this limitation by putting the operation in a custom Keras layer `call` and calling that layer on this symbolic input/output."
     ]
    }
   ],
   "source": [
    "import tensorflow as tf\n",
    "\n",
    "\n",
    "@tf.function\n",
    "def get_model(input_m, num_filter):\n",
    "    print(\"tracing model\")\n",
    "\n",
    "    x = tf.keras.layers.Dense(num_filter)(input_m)\n",
    "    x = tf.keras.layers.Dense(num_filter)(x)\n",
    "    x = tf.keras.layers.Dense(num_filter)(x)\n",
    "    out = []\n",
    "    for i in range(x.shape[-1]):\n",
    "        out.append(tf.keras.layers.Dense(5)(x[:,i:i+1]))\n",
    "    x = tf.keras.layers.Concatenate(axis=-1)(out)\n",
    "    out = tf.keras.layers.Dense(1)(x)\n",
    "    print(out)\n",
    "    return out\n",
    "\n",
    "input_model = tf.keras.Input(shape=(1,))\n",
    "x = tf.keras.layers.Dense(5)(input_model)\n",
    "output = get_model(x, 20)\n",
    "output = get_model(x, 20)\n",
    "output = get_model(x, 5)\n",
    "model = tf.keras.Model(input_model, output)\n"
   ]
  },
  {
   "cell_type": "code",
   "execution_count": null,
   "outputs": [],
   "source": [],
   "metadata": {
    "collapsed": false
   }
  },
  {
   "cell_type": "code",
   "execution_count": 13,
   "outputs": [],
   "source": [],
   "metadata": {
    "collapsed": false
   }
  }
 ],
 "metadata": {
  "kernelspec": {
   "display_name": "Python 3",
   "language": "python",
   "name": "python3"
  },
  "language_info": {
   "codemirror_mode": {
    "name": "ipython",
    "version": 2
   },
   "file_extension": ".py",
   "mimetype": "text/x-python",
   "name": "python",
   "nbconvert_exporter": "python",
   "pygments_lexer": "ipython2",
   "version": "2.7.6"
  }
 },
 "nbformat": 4,
 "nbformat_minor": 0
}
